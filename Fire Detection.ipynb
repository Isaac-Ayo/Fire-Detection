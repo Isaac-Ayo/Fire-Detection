{
 "cells": [
  {
   "cell_type": "code",
   "execution_count": null,
   "id": "f9d975e7",
   "metadata": {},
   "outputs": [],
   "source": [
    "import cv2\n",
    "from playsound import playsound\n",
    "\n",
    "\n",
    "fire_cascade = cv2.CascadeClassifier(r\"C:\\Users\\isaac\\Documents\\Capstone Project\\fire_detection.xml\")\n",
    "\n",
    "cap = cv2.VideoCapture(0)\n",
    "\n",
    "while(True):\n",
    "    ret, frame = cap.read()\n",
    "    gray = cv2.cvtColor(frame, cv2.COLOR_BGR2GRAY)\n",
    "    fire = fire_cascade.detectMultiScale(frame, 1.2, 5)\n",
    "    for (x,y,w,h) in fire:\n",
    "        cv2.rectangle(frame,(x-20,y-20),(x+w+20,y+h+20),(255,0,0),2)\n",
    "        roi_gray = gray[y:y+h, x:x+w]\n",
    "        roi_color = frame[y:y+h, x:x+w]\n",
    "        print(\"fire is detected\")\n",
    "        playsound(r\"C:\\Users\\isaac\\Documents\\Capstone Project\\audio.mp3\")\n",
    "    cv2.imshow('frame', frame)\n",
    "    if cv2.waitKey(1) & 0xFF == ord('q'):\n",
    "        break\n"
   ]
  },
  {
   "cell_type": "code",
   "execution_count": null,
   "id": "23d61497",
   "metadata": {},
   "outputs": [],
   "source": []
  }
 ],
 "metadata": {
  "kernelspec": {
   "display_name": "Python 3",
   "language": "python",
   "name": "python3"
  },
  "language_info": {
   "codemirror_mode": {
    "name": "ipython",
    "version": 3
   },
   "file_extension": ".py",
   "mimetype": "text/x-python",
   "name": "python",
   "nbconvert_exporter": "python",
   "pygments_lexer": "ipython3",
   "version": "3.8.8"
  }
 },
 "nbformat": 4,
 "nbformat_minor": 5
}
