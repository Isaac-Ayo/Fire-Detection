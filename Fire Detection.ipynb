{
 "cells": [
  {
   "cell_type": "code",
   "execution_count": null,
   "id": "f9d975e7",
   "metadata": {
    "scrolled": true
   },
   "outputs": [
    {
     "name": "stdout",
     "output_type": "stream",
     "text": [
      "fire is detected\n",
      "sent to ayobami.banjoko@dcmail.ca\n"
     ]
    }
   ],
   "source": [
    "import cv2\n",
    "from playsound import playsound\n",
    "import threading\n",
    "import smtplib\n",
    "\n",
    "Email_Status = False\n",
    "\n",
    "def send_mail_function():\n",
    "\n",
    "    recipientEmail = \"ayobami.banjoko@dcmail.ca\"\n",
    "    recipientEmail = recipientEmail.lower()\n",
    "\n",
    "    try:\n",
    "        server = smtplib.SMTP('smtp.gmail.com', 587)\n",
    "        server.ehlo()\n",
    "        server.starttls()\n",
    "        server.login(\"Enter_Your_Email (System Email)\", 'Enter_Your_Email_Password (System Email')\n",
    "        server.sendmail('Enter_Your_Email (System Email)', recipientEmail, \"Warning A Fire Accident has been reported on ABC Company\")\n",
    "        print(\"sent to {}\".format(recipientEmail))\n",
    "        server.close()\n",
    "    except Exception as e:\n",
    "        print(e)\n",
    "\n",
    "fire_cascade = cv2.CascadeClassifier(r\"C:\\Users\\isaac\\Documents\\Capstone Project\\fire_detection.xml\")\n",
    "\n",
    "cap = cv2.VideoCapture(0)\n",
    "\n",
    "\n",
    "while(True):\n",
    "    ret, frame = cap.read()\n",
    "    gray = cv2.cvtColor(frame, cv2.COLOR_BGR2GRAY)\n",
    "    fire = fire_cascade.detectMultiScale(frame, 1.2, 5)\n",
    "    for (x,y,w,h) in fire:\n",
    "        cv2.rectangle(frame,(x-20,y-20),(x+w+20,y+h+20),(255,0,0),2)\n",
    "        roi_gray = gray[y:y+h, x:x+w]\n",
    "        roi_color = frame[y:y+h, x:x+w]\n",
    "        print(\"fire is detected\")\n",
    "        playsound(r\"C:\\Users\\isaac\\Documents\\Capstone Project\\audio.mp3\")\n",
    "        if Email_Status == False:\n",
    "            threading.Thread(target=send_mail_function).start()\n",
    "            Email_Status = True\n",
    "    cv2.imshow('frame', frame)\n",
    "    if cv2.waitKey(1) & 0xFF == ord('q'):\n",
    "        break\n",
    "        \n",
    "cv2.destroyAllWindows()\n",
    "cap.release()"
   ]
  },
  {
   "cell_type": "code",
   "execution_count": null,
   "id": "23d61497",
   "metadata": {},
   "outputs": [],
   "source": []
  }
 ],
 "metadata": {
  "kernelspec": {
   "display_name": "Python 3",
   "language": "python",
   "name": "python3"
  },
  "language_info": {
   "codemirror_mode": {
    "name": "ipython",
    "version": 3
   },
   "file_extension": ".py",
   "mimetype": "text/x-python",
   "name": "python",
   "nbconvert_exporter": "python",
   "pygments_lexer": "ipython3",
   "version": "3.8.8"
  }
 },
 "nbformat": 4,
 "nbformat_minor": 5
}
